{
  "nbformat": 4,
  "nbformat_minor": 0,
  "metadata": {
    "colab": {
      "name": "100 codes 3.ipynb",
      "provenance": [],
      "collapsed_sections": []
    },
    "kernelspec": {
      "name": "python3",
      "display_name": "Python 3"
    },
    "language_info": {
      "name": "python"
    }
  },
  "cells": [
    {
      "cell_type": "markdown",
      "source": [
        "(8.) Write a program that will give you the sum of 3 digits"
      ],
      "metadata": {
        "id": "B5AgGxqPVILd"
      }
    },
    {
      "cell_type": "code",
      "source": [
        "a= input(\"enter a num: \")\n",
        "b = []\n",
        "for i in a :\n",
        "     b.append(int(i))\n",
        "print(b)"
      ],
      "metadata": {
        "colab": {
          "base_uri": "https://localhost:8080/"
        },
        "id": "6U44E7ZuUmFb",
        "outputId": "831fcd3c-04a2-4a7e-f464-f90c34b69031"
      },
      "execution_count": 6,
      "outputs": [
        {
          "output_type": "stream",
          "name": "stdout",
          "text": [
            "enter a num: 13145\n",
            "[1, 3, 1, 4, 5]\n"
          ]
        }
      ]
    },
    {
      "cell_type": "markdown",
      "source": [
        "Int is not iterable.\n",
        "but if we want to have int input only, we'll do this:"
      ],
      "metadata": {
        "id": "jL8OMRFbXb1A"
      }
    },
    {
      "cell_type": "code",
      "source": [
        "a = int(input(\"Enter your num: \"))\n",
        "\n",
        "b = a % 10 #(eg, the num is 123, \"% 10\" will give us 3)\n",
        "a = a // 10 #(since value of a is 123, \"// 10\" will delete the last digit)\n",
        "c = a % 10 #(a = 12, we get 2)\n",
        "d = a // 10 #(a = 12, will delete 2, we get 1)\n",
        "\n",
        "print(b+c+d)"
      ],
      "metadata": {
        "colab": {
          "base_uri": "https://localhost:8080/"
        },
        "id": "k9l6j9MGVj_p",
        "outputId": "80fc3fe6-ca6f-4f44-81c1-9e3d0e619c0e"
      },
      "execution_count": 9,
      "outputs": [
        {
          "output_type": "stream",
          "name": "stdout",
          "text": [
            "Enter your num: 123\n",
            "6\n"
          ]
        }
      ]
    },
    {
      "cell_type": "markdown",
      "source": [
        "(9.) Write a program that will reverse a four digit number.Also it checks whether the reverse is true."
      ],
      "metadata": {
        "id": "Ra2ZLWe8ZgVd"
      }
    },
    {
      "cell_type": "code",
      "source": [
        "a = int(input(\" enter num: \"))\n",
        "print(str(a)[::-1])"
      ],
      "metadata": {
        "colab": {
          "base_uri": "https://localhost:8080/"
        },
        "id": "VsvbkdG0Yxjg",
        "outputId": "335dac38-f8a5-448b-90fd-210f76148d64"
      },
      "execution_count": 10,
      "outputs": [
        {
          "output_type": "stream",
          "name": "stdout",
          "text": [
            " enter num: 12345\n",
            "54321\n"
          ]
        }
      ]
    },
    {
      "cell_type": "markdown",
      "source": [
        "Another method could be the same as the 8th program.\n",
        "We will get a list of reversed integers, just add them to form a number.\n",
        "a*1000 + b*100 + c*10 + d (this is for 4 digits)."
      ],
      "metadata": {
        "id": "t73w7_lacFf0"
      }
    },
    {
      "cell_type": "markdown",
      "source": [
        "(10.) Write a program that will tell whether the number entered by the user is odd or even."
      ],
      "metadata": {
        "id": "LpgXtD2ycnQW"
      }
    },
    {
      "cell_type": "code",
      "source": [
        "a = int(input(\"num: \"))\n",
        "if a % 2 == 0:\n",
        "  print('even')\n",
        "else:\n",
        "  print('odd')"
      ],
      "metadata": {
        "colab": {
          "base_uri": "https://localhost:8080/"
        },
        "id": "fun6J_9DbX6o",
        "outputId": "3e72765c-ab1a-4201-fd77-1c17eb43397f"
      },
      "execution_count": 11,
      "outputs": [
        {
          "output_type": "stream",
          "name": "stdout",
          "text": [
            "num: 3\n",
            "odd\n"
          ]
        }
      ]
    },
    {
      "cell_type": "markdown",
      "source": [
        "(11.) Write a program that will tell whether the given year is a leap year or not."
      ],
      "metadata": {
        "id": "cbOGeYC_fHRy"
      }
    },
    {
      "cell_type": "code",
      "source": [
        "# we have two cases, century year and not a century year\n",
        "\n",
        "a = int(input(\"enter year: \"))\n",
        "\n",
        "if (a % 100 == 0) and (a % 400 ==0):\n",
        "  print(\"{0} is a leap year\".format(a))\n",
        "\n",
        "# Here divided by 100 means century year and a century year divided by 400 is leap\n",
        "\n",
        "elif (a % 100 != 0) and (a % 4 == 0):\n",
        "  print(\"{0} is a leap year\".format(a))\n",
        "\n",
        "# This was for non century year\n",
        "\n",
        "else:\n",
        "  print(\"not a leap year\")"
      ],
      "metadata": {
        "colab": {
          "base_uri": "https://localhost:8080/"
        },
        "id": "_OSniavbfOYj",
        "outputId": "0d96775e-ecbc-48a6-8a67-3d06ab91daa2"
      },
      "execution_count": 16,
      "outputs": [
        {
          "output_type": "stream",
          "name": "stdout",
          "text": [
            "enter year: 2001\n",
            "not a leap year\n"
          ]
        }
      ]
    },
    {
      "cell_type": "code",
      "source": [
        ""
      ],
      "metadata": {
        "id": "fAkKpE7KgrWm"
      },
      "execution_count": null,
      "outputs": []
    }
  ]
}