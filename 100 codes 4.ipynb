{
 "cells": [
  {
   "cell_type": "markdown",
   "metadata": {},
   "source": [
    "(11.) Write a program to find the euclidean distance between two coordinates.\n",
    "The formula is\n",
    "D=((x2-x1)^2 + (y2-y1)^2)^0.5    (since sq.root is 0.5)"
   ]
  },
  {
   "cell_type": "code",
   "execution_count": 3,
   "metadata": {},
   "outputs": [
    {
     "name": "stdout",
     "output_type": "stream",
     "text": [
      "31.11269837220809\n"
     ]
    }
   ],
   "source": [
    "x1 = float(input(\"enter x1 coordinate\"))\n",
    "x2 = float(input(\"enter x2 coordinate\"))\n",
    "y1 = float(input(\"enter y1 coordinate\"))\n",
    "y2 = float(input(\"enter y2 coordinate\"))\n",
    "\n",
    "d=((x2-x1)**2 + (y2-y1)**2)**0.5\n",
    "print(d)"
   ]
  },
  {
   "cell_type": "markdown",
   "metadata": {},
   "source": [
    "(12.) Write a program that take a user inputr of three angles and will find out whether it can form a triangle or not."
   ]
  },
  {
   "cell_type": "code",
   "execution_count": 7,
   "metadata": {},
   "outputs": [
    {
     "name": "stdout",
     "output_type": "stream",
     "text": [
      "doesnt form a triangle\n"
     ]
    }
   ],
   "source": [
    "a =  float(input(\"enter angle 1: \"))\n",
    "b =  float(input(\"enter angle 2: \"))\n",
    "c =  float(input(\"enter angle 3: \"))\n",
    "\n",
    "d = a+b+c\n",
    "if d == 180 and a != 0 and b != 0 and c != 0:\n",
    "    print(\"forms a triangle\")\n",
    "else:\n",
    "    print(\"doesnt form a triangle\")"
   ]
  },
  {
   "cell_type": "markdown",
   "metadata": {},
   "source": [
    "(13.) Write a program that will take user input of cost price and selling price and determines whether its a loss or a profit\n",
    "profit = SP - CP\n",
    "loss = CP - SP"
   ]
  },
  {
   "cell_type": "code",
   "execution_count": 9,
   "metadata": {},
   "outputs": [
    {
     "name": "stdout",
     "output_type": "stream",
     "text": [
      "44.0 is the profit gained and -44.0 is the loss incurred\n"
     ]
    }
   ],
   "source": [
    "sp = float(input(\"enter selling price\"))\n",
    "cp = float(input(\"enter cost price\"))\n",
    "\n",
    "loss = cp-sp\n",
    "profit = sp-cp\n",
    "print(\"{0} is the profit gained and {1} is the loss incurred\".format(profit, loss))"
   ]
  },
  {
   "cell_type": "markdown",
   "metadata": {},
   "source": [
    "(14.) Write a program to find the simple interest when the value of principle,rate of interest and time period is given.\n",
    "formula:\n",
    "I = p*r*t/100"
   ]
  },
  {
   "cell_type": "code",
   "execution_count": 13,
   "metadata": {},
   "outputs": [
    {
     "name": "stdout",
     "output_type": "stream",
     "text": [
      "Your simple interest is 60.0 and amount is 1060.0\n"
     ]
    }
   ],
   "source": [
    "p =  float(input(\"enter principle amount \"))\n",
    "r =  float(input(\"enter rate of interest \"))\n",
    "t =  float(input(\"enter time \"))\n",
    "\n",
    "i = (p*r*t)/100\n",
    "a = p + i\n",
    "print(\"Your simple interest is {0} and amount is {1}\".format(i,a))\n"
   ]
  },
  {
   "cell_type": "markdown",
   "metadata": {},
   "source": [
    "(15.)Write a program to find the volume of the cylinder. Also find the cost when ,when the cost of 1 litre milk is 40Rs.\n",
    "V=π r^2 h"
   ]
  },
  {
   "cell_type": "code",
   "execution_count": 19,
   "metadata": {},
   "outputs": [
    {
     "name": "stdout",
     "output_type": "stream",
     "text": [
      "The volume is 351.68 and cost of is Rs14.067200000000001\n"
     ]
    }
   ],
   "source": [
    "r = float(input(\"enter radius\"))\n",
    "h = float(input(\"enter height\"))\n",
    "pi = 3.14\n",
    "v = pi*(r**2)*h\n",
    "cost = float(input(\"enter cost of milk per litre\"))\n",
    "sp = cost * v/1000   # since volume is unit^3 (cm^3)\n",
    "print(\"The volume is {0} and cost of is Rs{1}\".format(v,sp))"
   ]
  },
  {
   "cell_type": "markdown",
   "metadata": {},
   "source": [
    "(16.)Write  a program that will tell whether the given number is divisible by 3 & 6."
   ]
  },
  {
   "cell_type": "code",
   "execution_count": 21,
   "metadata": {},
   "outputs": [
    {
     "name": "stdout",
     "output_type": "stream",
     "text": [
      "not divisible\n"
     ]
    }
   ],
   "source": [
    "a = float(input(\"enter number\"))\n",
    "if a%3 == 0 and a%6 == 0:\n",
    "    print(\"divisible\")\n",
    "else:\n",
    "    print(\"not divisible\")"
   ]
  },
  {
   "cell_type": "code",
   "execution_count": null,
   "metadata": {},
   "outputs": [],
   "source": []
  }
 ],
 "metadata": {
  "interpreter": {
   "hash": "7c97e404595ecb89ecdb7f170d00437ff4a1d6449a6916943b81aea8e5a27644"
  },
  "kernelspec": {
   "display_name": "Python 3.8.5 ('base')",
   "language": "python",
   "name": "python3"
  },
  "language_info": {
   "codemirror_mode": {
    "name": "ipython",
    "version": 3
   },
   "file_extension": ".py",
   "mimetype": "text/x-python",
   "name": "python",
   "nbconvert_exporter": "python",
   "pygments_lexer": "ipython3",
   "version": "3.8.5"
  },
  "orig_nbformat": 4
 },
 "nbformat": 4,
 "nbformat_minor": 2
}
