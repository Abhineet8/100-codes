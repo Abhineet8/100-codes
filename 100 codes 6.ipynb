{
 "cells": [
  {
   "cell_type": "markdown",
   "metadata": {},
   "source": [
    "(21.)program to multiply two numbers without using the '*' operator."
   ]
  },
  {
   "cell_type": "code",
   "execution_count": 5,
   "metadata": {},
   "outputs": [
    {
     "name": "stdout",
     "output_type": "stream",
     "text": [
      "9\n"
     ]
    }
   ],
   "source": [
    "a = int(input(\"enter first number\"))\n",
    "b = int(input(\"enter second number\"))\n",
    "sum = 0\n",
    "\n",
    "for i in range(0,a):\n",
    "    sum = sum + b\n",
    "print(sum)"
   ]
  },
  {
   "cell_type": "markdown",
   "metadata": {},
   "source": [
    "(22.) program to print first 25 Odd numbers."
   ]
  },
  {
   "cell_type": "code",
   "execution_count": 17,
   "metadata": {},
   "outputs": [
    {
     "name": "stdout",
     "output_type": "stream",
     "text": [
      "1\n",
      "3\n",
      "5\n",
      "7\n",
      "9\n",
      "11\n",
      "13\n",
      "15\n",
      "17\n",
      "19\n",
      "21\n",
      "23\n",
      "25\n",
      "27\n",
      "29\n",
      "31\n",
      "33\n",
      "35\n",
      "37\n",
      "39\n",
      "41\n",
      "43\n",
      "45\n",
      "47\n",
      "49\n"
     ]
    }
   ],
   "source": [
    "i = 1\n",
    "flag = 0\n",
    "\n",
    "while True:\n",
    "    if i % 2 != 0:\n",
    "        print(i)\n",
    "        flag = flag + 1\n",
    "    if flag == 25:\n",
    "        break\n",
    "    i = i + 1"
   ]
  },
  {
   "cell_type": "markdown",
   "metadata": {},
   "source": [
    "(23.)program to check a number is Prime or not."
   ]
  },
  {
   "cell_type": "code",
   "execution_count": 31,
   "metadata": {},
   "outputs": [
    {
     "name": "stdout",
     "output_type": "stream",
     "text": [
      "4 is not prime\n"
     ]
    }
   ],
   "source": [
    "a = int(input('enter a number '))\n",
    "\n",
    "for i in range(2 ,a):\n",
    "    if a % i == 0:\n",
    "        print(a,\"is not prime\")\n",
    "        break\n",
    "    else:\n",
    "        print(a,\" is prime\")\n",
    "        break"
   ]
  },
  {
   "cell_type": "markdown",
   "metadata": {},
   "source": [
    "(24.)program to print Armstrong number in the range 100 to 1000."
   ]
  },
  {
   "cell_type": "code",
   "execution_count": 32,
   "metadata": {},
   "outputs": [
    {
     "name": "stdout",
     "output_type": "stream",
     "text": [
      "153 is armstrong\n",
      "370 is armstrong\n",
      "371 is armstrong\n",
      "407 is armstrong\n"
     ]
    }
   ],
   "source": [
    "for num in range(100,1000):\n",
    "    i = num\n",
    "    a = num % 10\n",
    "    num = num // 10\n",
    "    b = num % 10\n",
    "    c = num // 10\n",
    "\n",
    "    if (a**3) + (b**3) + (c**3) == i:\n",
    "        print(i,\"is armstrong\")\n",
    "    i = i + 1"
   ]
  },
  {
   "cell_type": "markdown",
   "metadata": {},
   "source": [
    "(25.) The current population of a town is 10000. The population of the town is increasing at the rate of 10% per year. You have to write a program to find out the population at the end of each of the last 10 years. For eg current population is 10000 so the output should be like this:\n",
    "\n",
    "10th year - 10000\n",
    "\n",
    "\n",
    "9th year - 9000\n",
    "\n",
    "\n",
    "8th year - 8100 and so on\n"
   ]
  },
  {
   "cell_type": "code",
   "execution_count": 40,
   "metadata": {},
   "outputs": [
    {
     "name": "stdout",
     "output_type": "stream",
     "text": [
      "10000\n",
      "9000\n",
      "8100\n",
      "7290\n",
      "6561\n",
      "5904\n",
      "5314\n",
      "4782\n",
      "4304\n",
      "3874\n"
     ]
    }
   ],
   "source": [
    "flag = 0\n",
    "a = 10000\n",
    "print(a)\n",
    "while True :\n",
    "    b = (a) - ((a*10)/100)\n",
    "    a = b\n",
    "    print(int(b))\n",
    "    flag = flag + 1\n",
    "\n",
    "    if flag == 9:\n",
    "        break\n",
    "\n"
   ]
  },
  {
   "cell_type": "code",
   "execution_count": null,
   "metadata": {},
   "outputs": [],
   "source": []
  }
 ],
 "metadata": {
  "kernelspec": {
   "display_name": "Python 3.8.5 ('base')",
   "language": "python",
   "name": "python3"
  },
  "language_info": {
   "codemirror_mode": {
    "name": "ipython",
    "version": 3
   },
   "file_extension": ".py",
   "mimetype": "text/x-python",
   "name": "python",
   "nbconvert_exporter": "python",
   "pygments_lexer": "ipython3",
   "version": "3.8.5"
  },
  "orig_nbformat": 4,
  "vscode": {
   "interpreter": {
    "hash": "7c97e404595ecb89ecdb7f170d00437ff4a1d6449a6916943b81aea8e5a27644"
   }
  }
 },
 "nbformat": 4,
 "nbformat_minor": 2
}
