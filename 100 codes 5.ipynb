{
 "cells": [
  {
   "cell_type": "markdown",
   "metadata": {},
   "source": [
    "(17.) Write a program that will determine weather when the value of temperature and humidity is provided by the user.\n",
    "\n",
    "TEMPERATURE(C)                      HUMIDITY(%)             WEATHER\n",
    "\n",
    "      >= 30                             >=90                Hot and Humid\n",
    "      >= 30                             < 90                 Hot\n",
    "      <30                                >= 90               Cool and Humid\n",
    "      <30                                 <90                 Cool\n"
   ]
  },
  {
   "cell_type": "code",
   "execution_count": 1,
   "metadata": {},
   "outputs": [
    {
     "name": "stdout",
     "output_type": "stream",
     "text": [
      "hot\n"
     ]
    }
   ],
   "source": [
    "t = int(input(\"Enter temp: \"))\n",
    "h = int(input(\"Enter humidity: \"))\n",
    "\n",
    "if t>=30 and h>=90:\n",
    "    print(\"hot and humid\")\n",
    "elif t>=30 and h<90:\n",
    "    print(\"hot\")\n",
    "elif t<30 and h>=90:\n",
    "    print(\"cool and humid\")\n",
    "elif t<30 and h<90:\n",
    "    print(\"cool\")\n"
   ]
  },
  {
   "cell_type": "markdown",
   "metadata": {},
   "source": [
    "(18.)Python program to find the sum of the square of a given number."
   ]
  },
  {
   "cell_type": "code",
   "execution_count": 3,
   "metadata": {},
   "outputs": [
    {
     "name": "stdout",
     "output_type": "stream",
     "text": [
      "29\n"
     ]
    }
   ],
   "source": [
    "num = int(input(\"enter a 3 digit number\"))\n",
    "\n",
    "a = num % 10\n",
    "num = num // 10\n",
    "b = num % 10\n",
    "c = num // 10\n",
    "\n",
    "print((a**2)+(b**2)+(c**2))"
   ]
  },
  {
   "cell_type": "markdown",
   "metadata": {},
   "source": [
    "(19.)Python program to check if a given number is Armstrong number or not.\n",
    "if abc is a 3 digit number\n",
    "Armstrong number = (a * *3) + (b * *3)+(c**3)"
   ]
  },
  {
   "cell_type": "code",
   "execution_count": 5,
   "metadata": {},
   "outputs": [
    {
     "name": "stdout",
     "output_type": "stream",
     "text": [
      "Armstrong num\n"
     ]
    }
   ],
   "source": [
    "user = int(input(\"enter your 3 digit number\"))\n",
    "num = user\n",
    "a = num % 10\n",
    "num = num // 10\n",
    "b = num % 10\n",
    "c = num // 10\n",
    "\n",
    "if (a**3) + (b**3) + (c**3) == user :\n",
    "    print(\"Armstrong num\")\n",
    "else:\n",
    "    print(\"Not armstrong num\")"
   ]
  },
  {
   "cell_type": "markdown",
   "metadata": {},
   "source": [
    "(20.) Write a program that will take user input of (4 digits number) and check whether the number is narcissist number or not."
   ]
  },
  {
   "cell_type": "code",
   "execution_count": 6,
   "metadata": {},
   "outputs": [],
   "source": [
    "# Same as armstrong number\n",
    "# For a 4 digit number, add all digits with power 4\n",
    "# (a**4)+(b**4)+...so on"
   ]
  },
  {
   "cell_type": "code",
   "execution_count": null,
   "metadata": {},
   "outputs": [],
   "source": []
  }
 ],
 "metadata": {
  "interpreter": {
   "hash": "7c97e404595ecb89ecdb7f170d00437ff4a1d6449a6916943b81aea8e5a27644"
  },
  "kernelspec": {
   "display_name": "Python 3.8.5 ('base')",
   "language": "python",
   "name": "python3"
  },
  "language_info": {
   "codemirror_mode": {
    "name": "ipython",
    "version": 3
   },
   "file_extension": ".py",
   "mimetype": "text/x-python",
   "name": "python",
   "nbconvert_exporter": "python",
   "pygments_lexer": "ipython3",
   "version": "3.8.5"
  },
  "orig_nbformat": 4
 },
 "nbformat": 4,
 "nbformat_minor": 2
}
